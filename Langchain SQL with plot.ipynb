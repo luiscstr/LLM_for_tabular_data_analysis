{
 "cells": [
  {
   "cell_type": "code",
   "execution_count": 90,
   "id": "a179f6c8-0979-4423-91c4-485eed1d7573",
   "metadata": {},
   "outputs": [],
   "source": [
    "import pandas as pd\n",
    "from langchain_community.utilities import SQLDatabase\n",
    "import sqlite3\n",
    "from langchain.chains import create_sql_query_chain\n",
    "from langchain_community.tools.sql_database.tool import QuerySQLDataBaseTool\n",
    "from langchain.prompts import PromptTemplate\n",
    "from langchain_groq import ChatGroq\n",
    "from langchain_community.agent_toolkits import create_sql_agent\n",
    "from langchain.callbacks.base import BaseCallbackHandler\n",
    "from sqlalchemy import create_engine, inspect,text\n",
    "import plotly.express as px\n",
    "from dotenv import load_dotenv\n",
    "import os"
   ]
  },
  {
   "cell_type": "code",
   "execution_count": 2,
   "id": "6d0443d9-cac8-41d1-a1b5-6aaada948210",
   "metadata": {},
   "outputs": [
    {
     "name": "stdout",
     "output_type": "stream",
     "text": [
      "<class 'pandas.core.frame.DataFrame'>\n",
      "RangeIndex: 887 entries, 0 to 886\n",
      "Data columns (total 8 columns):\n",
      " #   Column                   Non-Null Count  Dtype  \n",
      "---  ------                   --------------  -----  \n",
      " 0   Survived                 887 non-null    int64  \n",
      " 1   Pclass                   887 non-null    int64  \n",
      " 2   Name                     887 non-null    object \n",
      " 3   Sex                      887 non-null    object \n",
      " 4   Age                      887 non-null    float64\n",
      " 5   Siblings/Spouses Aboard  887 non-null    int64  \n",
      " 6   Parents/Children Aboard  887 non-null    int64  \n",
      " 7   Fare                     887 non-null    float64\n",
      "dtypes: float64(2), int64(4), object(2)\n",
      "memory usage: 55.6+ KB\n"
     ]
    },
    {
     "data": {
      "text/html": [
       "<div>\n",
       "<style scoped>\n",
       "    .dataframe tbody tr th:only-of-type {\n",
       "        vertical-align: middle;\n",
       "    }\n",
       "\n",
       "    .dataframe tbody tr th {\n",
       "        vertical-align: top;\n",
       "    }\n",
       "\n",
       "    .dataframe thead th {\n",
       "        text-align: right;\n",
       "    }\n",
       "</style>\n",
       "<table border=\"1\" class=\"dataframe\">\n",
       "  <thead>\n",
       "    <tr style=\"text-align: right;\">\n",
       "      <th></th>\n",
       "      <th>Survived</th>\n",
       "      <th>Pclass</th>\n",
       "      <th>Name</th>\n",
       "      <th>Sex</th>\n",
       "      <th>Age</th>\n",
       "      <th>Siblings/Spouses Aboard</th>\n",
       "      <th>Parents/Children Aboard</th>\n",
       "      <th>Fare</th>\n",
       "    </tr>\n",
       "  </thead>\n",
       "  <tbody>\n",
       "    <tr>\n",
       "      <th>0</th>\n",
       "      <td>0</td>\n",
       "      <td>3</td>\n",
       "      <td>Mr. Owen Harris Braund</td>\n",
       "      <td>male</td>\n",
       "      <td>22.0</td>\n",
       "      <td>1</td>\n",
       "      <td>0</td>\n",
       "      <td>7.2500</td>\n",
       "    </tr>\n",
       "    <tr>\n",
       "      <th>1</th>\n",
       "      <td>1</td>\n",
       "      <td>1</td>\n",
       "      <td>Mrs. John Bradley (Florence Briggs Thayer) Cum...</td>\n",
       "      <td>female</td>\n",
       "      <td>38.0</td>\n",
       "      <td>1</td>\n",
       "      <td>0</td>\n",
       "      <td>71.2833</td>\n",
       "    </tr>\n",
       "    <tr>\n",
       "      <th>2</th>\n",
       "      <td>1</td>\n",
       "      <td>3</td>\n",
       "      <td>Miss. Laina Heikkinen</td>\n",
       "      <td>female</td>\n",
       "      <td>26.0</td>\n",
       "      <td>0</td>\n",
       "      <td>0</td>\n",
       "      <td>7.9250</td>\n",
       "    </tr>\n",
       "    <tr>\n",
       "      <th>3</th>\n",
       "      <td>1</td>\n",
       "      <td>1</td>\n",
       "      <td>Mrs. Jacques Heath (Lily May Peel) Futrelle</td>\n",
       "      <td>female</td>\n",
       "      <td>35.0</td>\n",
       "      <td>1</td>\n",
       "      <td>0</td>\n",
       "      <td>53.1000</td>\n",
       "    </tr>\n",
       "    <tr>\n",
       "      <th>4</th>\n",
       "      <td>0</td>\n",
       "      <td>3</td>\n",
       "      <td>Mr. William Henry Allen</td>\n",
       "      <td>male</td>\n",
       "      <td>35.0</td>\n",
       "      <td>0</td>\n",
       "      <td>0</td>\n",
       "      <td>8.0500</td>\n",
       "    </tr>\n",
       "  </tbody>\n",
       "</table>\n",
       "</div>"
      ],
      "text/plain": [
       "   Survived  Pclass                                               Name  \\\n",
       "0         0       3                             Mr. Owen Harris Braund   \n",
       "1         1       1  Mrs. John Bradley (Florence Briggs Thayer) Cum...   \n",
       "2         1       3                              Miss. Laina Heikkinen   \n",
       "3         1       1        Mrs. Jacques Heath (Lily May Peel) Futrelle   \n",
       "4         0       3                            Mr. William Henry Allen   \n",
       "\n",
       "      Sex   Age  Siblings/Spouses Aboard  Parents/Children Aboard     Fare  \n",
       "0    male  22.0                        1                        0   7.2500  \n",
       "1  female  38.0                        1                        0  71.2833  \n",
       "2  female  26.0                        0                        0   7.9250  \n",
       "3  female  35.0                        1                        0  53.1000  \n",
       "4    male  35.0                        0                        0   8.0500  "
      ]
     },
     "execution_count": 2,
     "metadata": {},
     "output_type": "execute_result"
    }
   ],
   "source": [
    "df=pd.read_csv(\"data/titanic.csv\")\n",
    "df.info()\n",
    "df.head(5)"
   ]
  },
  {
   "cell_type": "markdown",
   "id": "82ef8fd4-13d0-4f76-8c6b-5034b5fc535a",
   "metadata": {},
   "source": [
    "***Converting csv to SQL***"
   ]
  },
  {
   "cell_type": "code",
   "execution_count": 3,
   "id": "62149031-c8d5-4a69-9d95-ac3935c3ce97",
   "metadata": {
    "collapsed": true,
    "jupyter": {
     "outputs_hidden": true
    }
   },
   "outputs": [
    {
     "ename": "ValueError",
     "evalue": "Table 'titanic' already exists.",
     "output_type": "error",
     "traceback": [
      "\u001b[1;31m---------------------------------------------------------------------------\u001b[0m",
      "\u001b[1;31mValueError\u001b[0m                                Traceback (most recent call last)",
      "Cell \u001b[1;32mIn[3], line 2\u001b[0m\n\u001b[0;32m      1\u001b[0m engine\u001b[38;5;241m=\u001b[39mcreate_engine(\u001b[38;5;124mf\u001b[39m\u001b[38;5;124m\"\u001b[39m\u001b[38;5;124msqlite:///data/sqldb.db\u001b[39m\u001b[38;5;124m\"\u001b[39m)\n\u001b[1;32m----> 2\u001b[0m df\u001b[38;5;241m.\u001b[39mto_sql(\u001b[38;5;124m\"\u001b[39m\u001b[38;5;124mtitanic\u001b[39m\u001b[38;5;124m\"\u001b[39m, engine, index\u001b[38;5;241m=\u001b[39m\u001b[38;5;28;01mFalse\u001b[39;00m)\n",
      "File \u001b[1;32m~\\anaconda3\\envs\\py312\\Lib\\site-packages\\pandas\\core\\generic.py:2987\u001b[0m, in \u001b[0;36mNDFrame.to_sql\u001b[1;34m(self, name, con, schema, if_exists, index, index_label, chunksize, dtype, method)\u001b[0m\n\u001b[0;32m   2830\u001b[0m \u001b[38;5;250m\u001b[39m\u001b[38;5;124;03m\"\"\"\u001b[39;00m\n\u001b[0;32m   2831\u001b[0m \u001b[38;5;124;03mWrite records stored in a DataFrame to a SQL database.\u001b[39;00m\n\u001b[0;32m   2832\u001b[0m \n\u001b[1;32m   (...)\u001b[0m\n\u001b[0;32m   2983\u001b[0m \u001b[38;5;124;03m[(1,), (None,), (2,)]\u001b[39;00m\n\u001b[0;32m   2984\u001b[0m \u001b[38;5;124;03m\"\"\"\u001b[39;00m  \u001b[38;5;66;03m# noqa:E501\u001b[39;00m\n\u001b[0;32m   2985\u001b[0m \u001b[38;5;28;01mfrom\u001b[39;00m \u001b[38;5;21;01mpandas\u001b[39;00m\u001b[38;5;21;01m.\u001b[39;00m\u001b[38;5;21;01mio\u001b[39;00m \u001b[38;5;28;01mimport\u001b[39;00m sql\n\u001b[1;32m-> 2987\u001b[0m \u001b[38;5;28;01mreturn\u001b[39;00m sql\u001b[38;5;241m.\u001b[39mto_sql(\n\u001b[0;32m   2988\u001b[0m     \u001b[38;5;28mself\u001b[39m,\n\u001b[0;32m   2989\u001b[0m     name,\n\u001b[0;32m   2990\u001b[0m     con,\n\u001b[0;32m   2991\u001b[0m     schema\u001b[38;5;241m=\u001b[39mschema,\n\u001b[0;32m   2992\u001b[0m     if_exists\u001b[38;5;241m=\u001b[39mif_exists,\n\u001b[0;32m   2993\u001b[0m     index\u001b[38;5;241m=\u001b[39mindex,\n\u001b[0;32m   2994\u001b[0m     index_label\u001b[38;5;241m=\u001b[39mindex_label,\n\u001b[0;32m   2995\u001b[0m     chunksize\u001b[38;5;241m=\u001b[39mchunksize,\n\u001b[0;32m   2996\u001b[0m     dtype\u001b[38;5;241m=\u001b[39mdtype,\n\u001b[0;32m   2997\u001b[0m     method\u001b[38;5;241m=\u001b[39mmethod,\n\u001b[0;32m   2998\u001b[0m )\n",
      "File \u001b[1;32m~\\anaconda3\\envs\\py312\\Lib\\site-packages\\pandas\\io\\sql.py:695\u001b[0m, in \u001b[0;36mto_sql\u001b[1;34m(frame, name, con, schema, if_exists, index, index_label, chunksize, dtype, method, engine, **engine_kwargs)\u001b[0m\n\u001b[0;32m    690\u001b[0m \u001b[38;5;28;01melif\u001b[39;00m \u001b[38;5;129;01mnot\u001b[39;00m \u001b[38;5;28misinstance\u001b[39m(frame, DataFrame):\n\u001b[0;32m    691\u001b[0m     \u001b[38;5;28;01mraise\u001b[39;00m \u001b[38;5;167;01mNotImplementedError\u001b[39;00m(\n\u001b[0;32m    692\u001b[0m         \u001b[38;5;124m\"\u001b[39m\u001b[38;5;124m'\u001b[39m\u001b[38;5;124mframe\u001b[39m\u001b[38;5;124m'\u001b[39m\u001b[38;5;124m argument should be either a Series or a DataFrame\u001b[39m\u001b[38;5;124m\"\u001b[39m\n\u001b[0;32m    693\u001b[0m     )\n\u001b[1;32m--> 695\u001b[0m \u001b[38;5;28;01mreturn\u001b[39;00m pandas_sql\u001b[38;5;241m.\u001b[39mto_sql(\n\u001b[0;32m    696\u001b[0m     frame,\n\u001b[0;32m    697\u001b[0m     name,\n\u001b[0;32m    698\u001b[0m     if_exists\u001b[38;5;241m=\u001b[39mif_exists,\n\u001b[0;32m    699\u001b[0m     index\u001b[38;5;241m=\u001b[39mindex,\n\u001b[0;32m    700\u001b[0m     index_label\u001b[38;5;241m=\u001b[39mindex_label,\n\u001b[0;32m    701\u001b[0m     schema\u001b[38;5;241m=\u001b[39mschema,\n\u001b[0;32m    702\u001b[0m     chunksize\u001b[38;5;241m=\u001b[39mchunksize,\n\u001b[0;32m    703\u001b[0m     dtype\u001b[38;5;241m=\u001b[39mdtype,\n\u001b[0;32m    704\u001b[0m     method\u001b[38;5;241m=\u001b[39mmethod,\n\u001b[0;32m    705\u001b[0m     engine\u001b[38;5;241m=\u001b[39mengine,\n\u001b[0;32m    706\u001b[0m     \u001b[38;5;241m*\u001b[39m\u001b[38;5;241m*\u001b[39mengine_kwargs,\n\u001b[0;32m    707\u001b[0m )\n",
      "File \u001b[1;32m~\\anaconda3\\envs\\py312\\Lib\\site-packages\\pandas\\io\\sql.py:1728\u001b[0m, in \u001b[0;36mSQLDatabase.to_sql\u001b[1;34m(self, frame, name, if_exists, index, index_label, schema, chunksize, dtype, method, engine, **engine_kwargs)\u001b[0m\n\u001b[0;32m   1678\u001b[0m \u001b[38;5;250m\u001b[39m\u001b[38;5;124;03m\"\"\"\u001b[39;00m\n\u001b[0;32m   1679\u001b[0m \u001b[38;5;124;03mWrite records stored in a DataFrame to a SQL database.\u001b[39;00m\n\u001b[0;32m   1680\u001b[0m \n\u001b[1;32m   (...)\u001b[0m\n\u001b[0;32m   1724\u001b[0m \u001b[38;5;124;03m    Any additional kwargs are passed to the engine.\u001b[39;00m\n\u001b[0;32m   1725\u001b[0m \u001b[38;5;124;03m\"\"\"\u001b[39;00m\n\u001b[0;32m   1726\u001b[0m sql_engine \u001b[38;5;241m=\u001b[39m get_engine(engine)\n\u001b[1;32m-> 1728\u001b[0m table \u001b[38;5;241m=\u001b[39m \u001b[38;5;28mself\u001b[39m\u001b[38;5;241m.\u001b[39mprep_table(\n\u001b[0;32m   1729\u001b[0m     frame\u001b[38;5;241m=\u001b[39mframe,\n\u001b[0;32m   1730\u001b[0m     name\u001b[38;5;241m=\u001b[39mname,\n\u001b[0;32m   1731\u001b[0m     if_exists\u001b[38;5;241m=\u001b[39mif_exists,\n\u001b[0;32m   1732\u001b[0m     index\u001b[38;5;241m=\u001b[39mindex,\n\u001b[0;32m   1733\u001b[0m     index_label\u001b[38;5;241m=\u001b[39mindex_label,\n\u001b[0;32m   1734\u001b[0m     schema\u001b[38;5;241m=\u001b[39mschema,\n\u001b[0;32m   1735\u001b[0m     dtype\u001b[38;5;241m=\u001b[39mdtype,\n\u001b[0;32m   1736\u001b[0m )\n\u001b[0;32m   1738\u001b[0m total_inserted \u001b[38;5;241m=\u001b[39m sql_engine\u001b[38;5;241m.\u001b[39minsert_records(\n\u001b[0;32m   1739\u001b[0m     table\u001b[38;5;241m=\u001b[39mtable,\n\u001b[0;32m   1740\u001b[0m     con\u001b[38;5;241m=\u001b[39m\u001b[38;5;28mself\u001b[39m\u001b[38;5;241m.\u001b[39mconnectable,\n\u001b[1;32m   (...)\u001b[0m\n\u001b[0;32m   1747\u001b[0m     \u001b[38;5;241m*\u001b[39m\u001b[38;5;241m*\u001b[39mengine_kwargs,\n\u001b[0;32m   1748\u001b[0m )\n\u001b[0;32m   1750\u001b[0m \u001b[38;5;28mself\u001b[39m\u001b[38;5;241m.\u001b[39mcheck_case_sensitive(name\u001b[38;5;241m=\u001b[39mname, schema\u001b[38;5;241m=\u001b[39mschema)\n",
      "File \u001b[1;32m~\\anaconda3\\envs\\py312\\Lib\\site-packages\\pandas\\io\\sql.py:1631\u001b[0m, in \u001b[0;36mSQLDatabase.prep_table\u001b[1;34m(self, frame, name, if_exists, index, index_label, schema, dtype)\u001b[0m\n\u001b[0;32m   1619\u001b[0m             \u001b[38;5;28;01mraise\u001b[39;00m \u001b[38;5;167;01mValueError\u001b[39;00m(\u001b[38;5;124mf\u001b[39m\u001b[38;5;124m\"\u001b[39m\u001b[38;5;124mThe type of \u001b[39m\u001b[38;5;132;01m{\u001b[39;00mcol\u001b[38;5;132;01m}\u001b[39;00m\u001b[38;5;124m is not a SQLAlchemy type\u001b[39m\u001b[38;5;124m\"\u001b[39m)\n\u001b[0;32m   1621\u001b[0m table \u001b[38;5;241m=\u001b[39m SQLTable(\n\u001b[0;32m   1622\u001b[0m     name,\n\u001b[0;32m   1623\u001b[0m     \u001b[38;5;28mself\u001b[39m,\n\u001b[1;32m   (...)\u001b[0m\n\u001b[0;32m   1629\u001b[0m     dtype\u001b[38;5;241m=\u001b[39mdtype,\n\u001b[0;32m   1630\u001b[0m )\n\u001b[1;32m-> 1631\u001b[0m table\u001b[38;5;241m.\u001b[39mcreate()\n\u001b[0;32m   1632\u001b[0m \u001b[38;5;28;01mreturn\u001b[39;00m table\n",
      "File \u001b[1;32m~\\anaconda3\\envs\\py312\\Lib\\site-packages\\pandas\\io\\sql.py:829\u001b[0m, in \u001b[0;36mSQLTable.create\u001b[1;34m(self)\u001b[0m\n\u001b[0;32m    827\u001b[0m \u001b[38;5;28;01mif\u001b[39;00m \u001b[38;5;28mself\u001b[39m\u001b[38;5;241m.\u001b[39mexists():\n\u001b[0;32m    828\u001b[0m     \u001b[38;5;28;01mif\u001b[39;00m \u001b[38;5;28mself\u001b[39m\u001b[38;5;241m.\u001b[39mif_exists \u001b[38;5;241m==\u001b[39m \u001b[38;5;124m\"\u001b[39m\u001b[38;5;124mfail\u001b[39m\u001b[38;5;124m\"\u001b[39m:\n\u001b[1;32m--> 829\u001b[0m         \u001b[38;5;28;01mraise\u001b[39;00m \u001b[38;5;167;01mValueError\u001b[39;00m(\u001b[38;5;124mf\u001b[39m\u001b[38;5;124m\"\u001b[39m\u001b[38;5;124mTable \u001b[39m\u001b[38;5;124m'\u001b[39m\u001b[38;5;132;01m{\u001b[39;00m\u001b[38;5;28mself\u001b[39m\u001b[38;5;241m.\u001b[39mname\u001b[38;5;132;01m}\u001b[39;00m\u001b[38;5;124m'\u001b[39m\u001b[38;5;124m already exists.\u001b[39m\u001b[38;5;124m\"\u001b[39m)\n\u001b[0;32m    830\u001b[0m     \u001b[38;5;28;01melif\u001b[39;00m \u001b[38;5;28mself\u001b[39m\u001b[38;5;241m.\u001b[39mif_exists \u001b[38;5;241m==\u001b[39m \u001b[38;5;124m\"\u001b[39m\u001b[38;5;124mreplace\u001b[39m\u001b[38;5;124m\"\u001b[39m:\n\u001b[0;32m    831\u001b[0m         \u001b[38;5;28mself\u001b[39m\u001b[38;5;241m.\u001b[39mpd_sql\u001b[38;5;241m.\u001b[39mdrop_table(\u001b[38;5;28mself\u001b[39m\u001b[38;5;241m.\u001b[39mname, \u001b[38;5;28mself\u001b[39m\u001b[38;5;241m.\u001b[39mschema)\n",
      "\u001b[1;31mValueError\u001b[0m: Table 'titanic' already exists."
     ]
    }
   ],
   "source": [
    "engine=create_engine(f\"sqlite:///data/sqldb.db\")\n",
    "df.to_sql(\"titanic\", engine, index=False)"
   ]
  },
  {
   "cell_type": "code",
   "execution_count": 72,
   "id": "30bcd2f3-f4a0-4354-981f-3ef79def7641",
   "metadata": {},
   "outputs": [],
   "source": [
    "def get_original_column_names(engine, table_name):\n",
    "    # Use SQLAlchemy's inspect method to get the table columns\n",
    "    inspector = inspect(engine)\n",
    "    columns = inspector.get_columns(table_name)\n",
    "    # Extract column names\n",
    "    column_names = [column['name'] for column in columns]\n",
    "    return column_names"
   ]
  },
  {
   "cell_type": "code",
   "execution_count": 4,
   "id": "681a1696-9786-430d-8558-a06415cd8474",
   "metadata": {},
   "outputs": [
    {
     "name": "stdout",
     "output_type": "stream",
     "text": [
      "sqlite\n",
      "['titanic']\n"
     ]
    },
    {
     "data": {
      "text/plain": [
       "\"[(1, 2, 'Master. Alden Gates Caldwell', 'male', 0.83, 0, 2, 29.0), (0, 3, 'Master. Eino Viljami Panula', 'male', 1.0, 4, 1, 39.6875), (1, 3, 'Miss. Eleanor Ileen Johnson', 'female', 1.0, 1, 1, 11.1333), (1, 2, 'Master. Richard F Becker', 'male', 1.0, 2, 1, 39.0), (1, 1, 'Master. Hudson Trevor Allison', 'male', 0.92, 1, 2, 151.55), (1, 3, 'Miss. Maria Nakid', 'female', 1.0, 0, 2, 15.7417), (0, 3, 'Master. Sidney Leonard Goodwin', 'male', 1.0, 5, 2, 46.9), (1, 3, 'Miss. Helene Barbara Baclini', 'female', 0.75, 2, 1, 19.2583), (1, 3, 'Miss. Eugenie Baclini', 'female', 0.75, 2, 1, 19.2583), (1, 2, 'Master. Viljo Hamalainen', 'male', 0.67, 1, 1, 14.5), (1, 3, 'Master. Bertram Vere Dean', 'male', 1.0, 1, 2, 20.575), (1, 3, 'Master. Assad Alexander Thomas', 'male', 0.42, 0, 1, 8.5167), (1, 2, 'Master. Andre Mallet', 'male', 1.0, 0, 2, 37.0042), (1, 2, 'Master. George Sibley Richards', 'male', 0.83, 1, 1, 18.75)]\""
      ]
     },
     "execution_count": 4,
     "metadata": {},
     "output_type": "execute_result"
    }
   ],
   "source": [
    "db = SQLDatabase(engine=engine)\n",
    "print(db.dialect)\n",
    "print(db.get_usable_table_names())\n",
    "db.run(\"SELECT * FROM titanic WHERE Age < 2;\")"
   ]
  },
  {
   "cell_type": "markdown",
   "id": "7b89e656-c4f6-45da-a2ab-7f947b148d64",
   "metadata": {},
   "source": [
    "I***nteracting with database***"
   ]
  },
  {
   "cell_type": "code",
   "execution_count": 5,
   "id": "6f0597df-c54e-4cc8-b634-18da916d1c81",
   "metadata": {},
   "outputs": [
    {
     "name": "stdout",
     "output_type": "stream",
     "text": [
      "True\n"
     ]
    }
   ],
   "source": [
    "#load_ext dotenv\n",
    "load_dotenv()\n",
    "print(load_dotenv())"
   ]
  },
  {
   "cell_type": "code",
   "execution_count": 6,
   "id": "2433e7de-90d0-4f1d-9429-3e4e9adfacee",
   "metadata": {},
   "outputs": [],
   "source": [
    "#Load the LLM\n",
    "llm = ChatGroq(\n",
    "        model=\"llama-3.1-70b-versatile\",\n",
    "        temperature=0,\n",
    "        max_tokens=None,\n",
    "        timeout=None,\n",
    "        max_retries=5,\n",
    "        # other params...\n",
    "        )"
   ]
  },
  {
   "cell_type": "code",
   "execution_count": 8,
   "id": "00974efa-ac42-4f50-9cfe-67d9967531c0",
   "metadata": {},
   "outputs": [],
   "source": [
    "table_description = \"The table is the titanic dataset which contains demographics and passenger information from 891 of the 2224 passengers and crew on board the Titanic.\\\n",
    "                    Contains the following fields:\\\n",
    "                    -Survived: Indicates if the passanger survived or not. Values are\t0 = No, 1 = Yes\\\n",
    "                    -Pclass:\tTicket class. Values are1 = 1st, 2 = 2nd, 3 = 3rd\\\n",
    "                    -Sex: Gender or sex of the passenger\\\n",
    "                    -Age: Age of the passenger\\\n",
    "                    -Sibsp: number of siblings and/or spouses\\\n",
    "                    -Parch: number of parents andor childrend\\\n",
    "                    -Ticket: ticket number\\\n",
    "                    -Fare: Passenger fare\\\n",
    "                    -Cabin:\tCabin number\\\n",
    "                    -Embarke:port where the passenger embarked. Values areC = Cherbourg, Q = Queenstown,S = Southampton\""
   ]
  },
  {
   "cell_type": "code",
   "execution_count": 107,
   "id": "fa39342c-b18e-453a-86ff-cb6f1a8c5b3e",
   "metadata": {},
   "outputs": [],
   "source": [
    "prompt = PromptTemplate(\n",
    "        template=(\n",
    "            \"You are an intelligent SQL assistant. The following is a description of a SQL table:\\n\"\n",
    "            \"{table_description}\\n\"\n",
    "            \"Based on this description, your task is to generate SQL queries in response to user prompts.\\n\"\n",
    "            \"Follow these instructions:\\n\"\n",
    "            \"1. Carefully understand the user's request and identify the fields involved.\\n\"\n",
    "            \"2. Generate an SQL query that retrieves the requested information, ensuring the syntax is correct.\\n\"\n",
    "            \"3. Use aggregate functions (e.g., SUM, AVG) if needed, and apply GROUP BY or ORDER BY as appropriate.\\n\"\n",
    "            \"4. When using aggregate functions (e.g., SUM, AVG), include the fields GROUPED BY or ORDERED BY in the SELECT statement of the query.\\n\"\n",
    "            \"5. When using aggregate functions (e.g., SUM, AVG), create an alias based in the SELECT statement of the query.\\n\"\n",
    "            \"6. If you are asked to look for a passenger name, use LIKE function not WHERE.\\n\"\n",
    "            \"7. Ensure that your query returns meaningful and readable results.\\n\"\n",
    "            \"8. If the user requests, structure the results for generating plots (e.g., data suitable for bar or line charts).\\n\"\n",
    "            \"9. Do not assume the table structure; rely on the description provided.\\n\"\n",
    "        )\n",
    "    )"
   ]
  },
  {
   "cell_type": "code",
   "execution_count": 99,
   "id": "35dd3dcf-14d7-4fa4-8475-d8acd248d8f2",
   "metadata": {},
   "outputs": [],
   "source": [
    "#To extract the generated SQL code. From https://github.com/langchain-ai/langchain/discussions/16624\n",
    "class SQLHandler(BaseCallbackHandler):\n",
    "    def __init__(self):\n",
    "        print(\"ESTOOO\")\n",
    "        self.sql_result = None\n",
    "\n",
    "    def on_agent_action(self, action, **kwargs):\n",
    "        \"\"\"Run on agent action. if the tool being used is sql_db_query,\n",
    "         it means we're submitting the sql and we can \n",
    "         record it as the final sql\"\"\"\n",
    "\n",
    "        if action.tool == \"sql_db_query\":\n",
    "            self.sql_result = action.tool_input"
   ]
  },
  {
   "cell_type": "code",
   "execution_count": 108,
   "id": "3130c359-7a96-4454-a3d4-0efe24c2ed48",
   "metadata": {},
   "outputs": [],
   "source": [
    "agent_executor = create_sql_agent(llm, db=db, verbose=True,prompt_template=prompt)"
   ]
  },
  {
   "cell_type": "code",
   "execution_count": 109,
   "id": "02ff2c28-d345-4c07-979b-d3de3179a22a",
   "metadata": {},
   "outputs": [
    {
     "name": "stdout",
     "output_type": "stream",
     "text": [
      "input_variables=['table_description'] input_types={} partial_variables={} template=\"You are an intelligent SQL assistant. The following is a description of a SQL table:\\n{table_description}\\nBased on this description, your task is to generate SQL queries in response to user prompts.\\nFollow these instructions:\\n1. Carefully understand the user's request and identify the fields involved.\\n2. Generate an SQL query that retrieves the requested information, ensuring the syntax is correct.\\n3. Use aggregate functions (e.g., SUM, AVG) if needed, and apply GROUP BY or ORDER BY as appropriate.\\n4. When using aggregate functions (e.g., SUM, AVG), include the fields GROUPED BY or ORDERED BY in the SELECT statement of the query.\\n5. When using aggregate functions (e.g., SUM, AVG), create an alias based in the SELECT statement of the query.\\n6. If you are asked to look for a passenger name, use LIKE function not WHERE.\\n7. Ensure that your query returns meaningful and readable results.\\n8. If the user requests, structure the results for generating plots (e.g., data suitable for bar or line charts).\\n9. Do not assume the table structure; rely on the description provided.\\n\"\n"
     ]
    }
   ],
   "source": [
    "print(prompt)"
   ]
  },
  {
   "cell_type": "code",
   "execution_count": 31,
   "id": "b053a2b2-5d20-4264-9435-28422fa290a8",
   "metadata": {},
   "outputs": [
    {
     "name": "stdout",
     "output_type": "stream",
     "text": [
      "\n",
      "\n",
      "\u001b[1m> Entering new SQL Agent Executor chain...\u001b[0m\n",
      "\u001b[32;1m\u001b[1;3mThought: I should look at the tables in the database to see what I can query.  Then I should query the schema of the most relevant tables.\n",
      "Action: sql_db_list_tables\n",
      "Action Input: \u001b[0m\u001b[38;5;200m\u001b[1;3mtitanic\u001b[0m\u001b[32;1m\u001b[1;3mAction: sql_db_schema\n",
      "Action Input: titanic\u001b[0m\u001b[33;1m\u001b[1;3m\n",
      "CREATE TABLE titanic (\n",
      "\t\"Survived\" BIGINT, \n",
      "\t\"Pclass\" BIGINT, \n",
      "\t\"Name\" TEXT, \n",
      "\t\"Sex\" TEXT, \n",
      "\t\"Age\" FLOAT, \n",
      "\t\"Siblings/Spouses Aboard\" BIGINT, \n",
      "\t\"Parents/Children Aboard\" BIGINT, \n",
      "\t\"Fare\" FLOAT\n",
      ")\n",
      "\n",
      "/*\n",
      "3 rows from titanic table:\n",
      "Survived\tPclass\tName\tSex\tAge\tSiblings/Spouses Aboard\tParents/Children Aboard\tFare\n",
      "0\t3\tMr. Owen Harris Braund\tmale\t22.0\t1\t0\t7.25\n",
      "1\t1\tMrs. John Bradley (Florence Briggs Thayer) Cumings\tfemale\t38.0\t1\t0\t71.2833\n",
      "1\t3\tMiss. Laina Heikkinen\tfemale\t26.0\t0\t0\t7.925\n",
      "*/\u001b[0m\u001b[32;1m\u001b[1;3mThought: I now have the schema of the titanic table. I should query the database for passengers with the name Anders.\n",
      "Action: sql_db_query_checker\n",
      "Action Input: SELECT Name, Survived, Age FROM titanic WHERE Name LIKE '%Anders%' LIMIT 10\u001b[0m\u001b[36;1m\u001b[1;3mSELECT Name, Survived, Age FROM titanic WHERE Name LIKE '%Anders%' LIMIT 10\u001b[0m\u001b[32;1m\u001b[1;3mThought: The query seems correct, I should now execute it.\n",
      "Action: sql_db_query\n",
      "Action Input: SELECT Name, Survived, Age FROM titanic WHERE Name LIKE '%Anders%' LIMIT 10\u001b[0m\u001b[36;1m\u001b[1;3m[('Mr. Anders Johan Andersson', 0, 39.0), ('Miss. Erna Alexandra Andersson', 1, 17.0), ('Mr. Anders Vilhelm Gustafsson', 0, 37.0), ('Miss. Ellis Anna Maria Andersson', 0, 2.0), ('Mr. August Edvard Andersson', 1, 27.0), ('Miss. Carla Christine Nielsine Andersen-Jensen', 1, 19.0), ('Mr. Harry Anderson', 1, 48.0), ('Mr. William Anderson Walker', 0, 47.0), ('Miss. Ingeborg Constanzia Andersson', 0, 9.0), ('Miss. Sigrid Elisabeth Andersson', 0, 11.0)]\u001b[0m\u001b[32;1m\u001b[1;3mThought: I now know the final answer\n",
      "Final Answer: There are several passengers with the name Anders, including Mr. Anders Johan Andersson, Miss. Erna Alexandra Andersson, Mr. Anders Vilhelm Gustafsson, Miss. Ellis Anna Maria Andersson, Mr. August Edvard Andersson, Miss. Carla Christine Nielsine Andersen-Jensen, Mr. Harry Anderson, Mr. William Anderson Walker, Miss. Ingeborg Constanzia Andersson, and Miss. Sigrid Elisabeth Andersson.\u001b[0m\n",
      "\n",
      "\u001b[1m> Finished chain.\u001b[0m\n"
     ]
    },
    {
     "data": {
      "text/plain": [
       "{'input': 'Tell me more about passenger Anders',\n",
       " 'output': 'There are several passengers with the name Anders, including Mr. Anders Johan Andersson, Miss. Erna Alexandra Andersson, Mr. Anders Vilhelm Gustafsson, Miss. Ellis Anna Maria Andersson, Mr. August Edvard Andersson, Miss. Carla Christine Nielsine Andersen-Jensen, Mr. Harry Anderson, Mr. William Anderson Walker, Miss. Ingeborg Constanzia Andersson, and Miss. Sigrid Elisabeth Andersson.'}"
      ]
     },
     "execution_count": 31,
     "metadata": {},
     "output_type": "execute_result"
    }
   ],
   "source": [
    "agent_executor.invoke(\n",
    "    {\n",
    "        \"input\": \"Tell me more about passenger Anders\"\n",
    "    }\n",
    ")"
   ]
  },
  {
   "cell_type": "code",
   "execution_count": 110,
   "id": "bac6697f-b961-41e4-a203-9c128910813c",
   "metadata": {},
   "outputs": [
    {
     "name": "stdout",
     "output_type": "stream",
     "text": [
      "ESTOOO\n"
     ]
    }
   ],
   "source": [
    "handler = SQLHandler()"
   ]
  },
  {
   "cell_type": "code",
   "execution_count": 115,
   "id": "f4e32b5a-8c9d-41a7-9e34-8392e9193c83",
   "metadata": {},
   "outputs": [
    {
     "name": "stdout",
     "output_type": "stream",
     "text": [
      "\n",
      "\n",
      "\u001b[1m> Entering new SQL Agent Executor chain...\u001b[0m\n",
      "\u001b[32;1m\u001b[1;3mThought: I should look at the tables in the database to see what I can query.  Then I should query the schema of the most relevant tables.\n",
      "Action: sql_db_list_tables\n",
      "Action Input: \u001b[0m\u001b[38;5;200m\u001b[1;3mtitanic\u001b[0m\u001b[32;1m\u001b[1;3mAction: sql_db_schema\n",
      "Action Input: titanic\u001b[0m\u001b[33;1m\u001b[1;3m\n",
      "CREATE TABLE titanic (\n",
      "\t\"Survived\" BIGINT, \n",
      "\t\"Pclass\" BIGINT, \n",
      "\t\"Name\" TEXT, \n",
      "\t\"Sex\" TEXT, \n",
      "\t\"Age\" FLOAT, \n",
      "\t\"Siblings/Spouses Aboard\" BIGINT, \n",
      "\t\"Parents/Children Aboard\" BIGINT, \n",
      "\t\"Fare\" FLOAT\n",
      ")\n",
      "\n",
      "/*\n",
      "3 rows from titanic table:\n",
      "Survived\tPclass\tName\tSex\tAge\tSiblings/Spouses Aboard\tParents/Children Aboard\tFare\n",
      "0\t3\tMr. Owen Harris Braund\tmale\t22.0\t1\t0\t7.25\n",
      "1\t1\tMrs. John Bradley (Florence Briggs Thayer) Cumings\tfemale\t38.0\t1\t0\t71.2833\n",
      "1\t3\tMiss. Laina Heikkinen\tfemale\t26.0\t0\t0\t7.925\n",
      "*/\u001b[0m\u001b[32;1m\u001b[1;3mThought: I now have the schema of the titanic table. I should query the average age of survivors by gender. I will use the AVG function to calculate the average age and the GROUP BY clause to group the results by gender. I will also use the WHERE clause to filter the results to only include survivors.\n",
      "\n",
      "Action: sql_db_query_checker\n",
      "Action Input: SELECT AVG(Age) AS AverageAge, Sex FROM titanic WHERE Survived = 1 GROUP BY Sex ORDER BY AverageAge ASC\u001b[0m\u001b[36;1m\u001b[1;3mSELECT AVG(CAST(Age AS REAL)) AS AverageAge, Sex \n",
      "FROM titanic \n",
      "WHERE Survived = 1 AND Age IS NOT NULL \n",
      "GROUP BY Sex \n",
      "ORDER BY AverageAge ASC\u001b[0m\u001b[32;1m\u001b[1;3mThought: I now have the correct query. I should execute it to get the results.\n",
      "\n",
      "Action: sql_db_query\n",
      "Action Input: SELECT AVG(CAST(Age AS REAL)) AS AverageAge, Sex FROM titanic WHERE Survived = 1 AND Age IS NOT NULL GROUP BY Sex ORDER BY AverageAge ASC\u001b[0m\u001b[36;1m\u001b[1;3m[(27.42816513761468, 'male'), (28.86695278969957, 'female')]\u001b[0m\u001b[32;1m\u001b[1;3mThought: I now know the final answer\n",
      "Final Answer: The average age of survivors by gender is 27.43 for males and 28.87 for females.\u001b[0m\n",
      "\n",
      "\u001b[1m> Finished chain.\u001b[0m\n"
     ]
    }
   ],
   "source": [
    "response=agent_executor.invoke({\"input\": \"what's the average age of survivors by gender?Sort results in ascending order\"},\n",
    "                              {\"callbacks\": [handler]})"
   ]
  },
  {
   "cell_type": "code",
   "execution_count": 116,
   "id": "d77127c5-3c17-4bdc-89c6-7b3c7a8f997a",
   "metadata": {},
   "outputs": [],
   "source": [
    "query=handler.sql_result"
   ]
  },
  {
   "cell_type": "code",
   "execution_count": 117,
   "id": "5aa760af-f9ad-4c0d-b6b8-35e83b217ee2",
   "metadata": {},
   "outputs": [
    {
     "data": {
      "text/plain": [
       "'SELECT AVG(CAST(Age AS REAL)) AS AverageAge, Sex FROM titanic WHERE Survived = 1 AND Age IS NOT NULL GROUP BY Sex ORDER BY AverageAge ASC'"
      ]
     },
     "execution_count": 117,
     "metadata": {},
     "output_type": "execute_result"
    }
   ],
   "source": [
    "query"
   ]
  },
  {
   "cell_type": "code",
   "execution_count": 86,
   "id": "08be5a32-b839-4ed7-bc2f-bf542018df75",
   "metadata": {},
   "outputs": [
    {
     "name": "stdout",
     "output_type": "stream",
     "text": [
      "The average age of survivors by gender is approximately 28.87 for males and 27.43 for females.\n"
     ]
    }
   ],
   "source": [
    "print(response['output'])"
   ]
  },
  {
   "cell_type": "code",
   "execution_count": 119,
   "id": "31795cae-9a7f-4321-baa0-21798d61c3e6",
   "metadata": {},
   "outputs": [],
   "source": [
    "conn= sqlite3.connect('data/sqldb.db')"
   ]
  },
  {
   "cell_type": "code",
   "execution_count": 120,
   "id": "4721b663-7d72-431d-84de-8c65be6eea35",
   "metadata": {},
   "outputs": [],
   "source": [
    "df_result = pd.read_sql(query,con=conn)"
   ]
  },
  {
   "cell_type": "code",
   "execution_count": 121,
   "id": "d1af8ff9-9912-4bb4-80e1-bc469ddd3dce",
   "metadata": {},
   "outputs": [
    {
     "data": {
      "text/html": [
       "<div>\n",
       "<style scoped>\n",
       "    .dataframe tbody tr th:only-of-type {\n",
       "        vertical-align: middle;\n",
       "    }\n",
       "\n",
       "    .dataframe tbody tr th {\n",
       "        vertical-align: top;\n",
       "    }\n",
       "\n",
       "    .dataframe thead th {\n",
       "        text-align: right;\n",
       "    }\n",
       "</style>\n",
       "<table border=\"1\" class=\"dataframe\">\n",
       "  <thead>\n",
       "    <tr style=\"text-align: right;\">\n",
       "      <th></th>\n",
       "      <th>AverageAge</th>\n",
       "      <th>Sex</th>\n",
       "    </tr>\n",
       "  </thead>\n",
       "  <tbody>\n",
       "    <tr>\n",
       "      <th>0</th>\n",
       "      <td>27.428165</td>\n",
       "      <td>male</td>\n",
       "    </tr>\n",
       "    <tr>\n",
       "      <th>1</th>\n",
       "      <td>28.866953</td>\n",
       "      <td>female</td>\n",
       "    </tr>\n",
       "  </tbody>\n",
       "</table>\n",
       "</div>"
      ],
      "text/plain": [
       "   AverageAge     Sex\n",
       "0   27.428165    male\n",
       "1   28.866953  female"
      ]
     },
     "execution_count": 121,
     "metadata": {},
     "output_type": "execute_result"
    }
   ],
   "source": [
    "df_result"
   ]
  },
  {
   "cell_type": "code",
   "execution_count": null,
   "id": "f28543dc-1424-42e4-879c-288dfb6988cb",
   "metadata": {},
   "outputs": [],
   "source": []
  },
  {
   "cell_type": "code",
   "execution_count": null,
   "id": "17b2f34d-61ef-4849-a4ce-a1c7141c3b0b",
   "metadata": {},
   "outputs": [],
   "source": []
  },
  {
   "cell_type": "code",
   "execution_count": 122,
   "id": "9c0b1080-6a39-4a1e-a89f-ab891722f4fd",
   "metadata": {},
   "outputs": [
    {
     "ename": "ValueError",
     "evalue": "Plotly Express cannot process wide-form data with columns of different type.",
     "output_type": "error",
     "traceback": [
      "\u001b[1;31m---------------------------------------------------------------------------\u001b[0m",
      "\u001b[1;31mValueError\u001b[0m                                Traceback (most recent call last)",
      "Cell \u001b[1;32mIn[122], line 1\u001b[0m\n\u001b[1;32m----> 1\u001b[0m fig \u001b[38;5;241m=\u001b[39m px\u001b[38;5;241m.\u001b[39mbar(df_result)\n\u001b[0;32m      2\u001b[0m fig\u001b[38;5;241m.\u001b[39mshow(renderer\u001b[38;5;241m=\u001b[39m\u001b[38;5;124m'\u001b[39m\u001b[38;5;124miframe\u001b[39m\u001b[38;5;124m'\u001b[39m)\n",
      "File \u001b[1;32m~\\anaconda3\\envs\\py312\\Lib\\site-packages\\plotly\\express\\_chart_types.py:373\u001b[0m, in \u001b[0;36mbar\u001b[1;34m(data_frame, x, y, color, pattern_shape, facet_row, facet_col, facet_col_wrap, facet_row_spacing, facet_col_spacing, hover_name, hover_data, custom_data, text, base, error_x, error_x_minus, error_y, error_y_minus, animation_frame, animation_group, category_orders, labels, color_discrete_sequence, color_discrete_map, color_continuous_scale, pattern_shape_sequence, pattern_shape_map, range_color, color_continuous_midpoint, opacity, orientation, barmode, log_x, log_y, range_x, range_y, text_auto, title, template, width, height)\u001b[0m\n\u001b[0;32m    325\u001b[0m \u001b[38;5;28;01mdef\u001b[39;00m \u001b[38;5;21mbar\u001b[39m(\n\u001b[0;32m    326\u001b[0m     data_frame\u001b[38;5;241m=\u001b[39m\u001b[38;5;28;01mNone\u001b[39;00m,\n\u001b[0;32m    327\u001b[0m     x\u001b[38;5;241m=\u001b[39m\u001b[38;5;28;01mNone\u001b[39;00m,\n\u001b[1;32m   (...)\u001b[0m\n\u001b[0;32m    367\u001b[0m     height\u001b[38;5;241m=\u001b[39m\u001b[38;5;28;01mNone\u001b[39;00m,\n\u001b[0;32m    368\u001b[0m ) \u001b[38;5;241m-\u001b[39m\u001b[38;5;241m>\u001b[39m go\u001b[38;5;241m.\u001b[39mFigure:\n\u001b[0;32m    369\u001b[0m \u001b[38;5;250m    \u001b[39m\u001b[38;5;124;03m\"\"\"\u001b[39;00m\n\u001b[0;32m    370\u001b[0m \u001b[38;5;124;03m    In a bar plot, each row of `data_frame` is represented as a rectangular\u001b[39;00m\n\u001b[0;32m    371\u001b[0m \u001b[38;5;124;03m    mark.\u001b[39;00m\n\u001b[0;32m    372\u001b[0m \u001b[38;5;124;03m    \"\"\"\u001b[39;00m\n\u001b[1;32m--> 373\u001b[0m     \u001b[38;5;28;01mreturn\u001b[39;00m make_figure(\n\u001b[0;32m    374\u001b[0m         args\u001b[38;5;241m=\u001b[39m\u001b[38;5;28mlocals\u001b[39m(),\n\u001b[0;32m    375\u001b[0m         constructor\u001b[38;5;241m=\u001b[39mgo\u001b[38;5;241m.\u001b[39mBar,\n\u001b[0;32m    376\u001b[0m         trace_patch\u001b[38;5;241m=\u001b[39m\u001b[38;5;28mdict\u001b[39m(textposition\u001b[38;5;241m=\u001b[39m\u001b[38;5;124m\"\u001b[39m\u001b[38;5;124mauto\u001b[39m\u001b[38;5;124m\"\u001b[39m),\n\u001b[0;32m    377\u001b[0m         layout_patch\u001b[38;5;241m=\u001b[39m\u001b[38;5;28mdict\u001b[39m(barmode\u001b[38;5;241m=\u001b[39mbarmode),\n\u001b[0;32m    378\u001b[0m     )\n",
      "File \u001b[1;32m~\\anaconda3\\envs\\py312\\Lib\\site-packages\\plotly\\express\\_core.py:2117\u001b[0m, in \u001b[0;36mmake_figure\u001b[1;34m(args, constructor, trace_patch, layout_patch)\u001b[0m\n\u001b[0;32m   2114\u001b[0m layout_patch \u001b[38;5;241m=\u001b[39m layout_patch \u001b[38;5;129;01mor\u001b[39;00m {}\n\u001b[0;32m   2115\u001b[0m apply_default_cascade(args)\n\u001b[1;32m-> 2117\u001b[0m args \u001b[38;5;241m=\u001b[39m build_dataframe(args, constructor)\n\u001b[0;32m   2118\u001b[0m \u001b[38;5;28;01mif\u001b[39;00m constructor \u001b[38;5;129;01min\u001b[39;00m [go\u001b[38;5;241m.\u001b[39mTreemap, go\u001b[38;5;241m.\u001b[39mSunburst, go\u001b[38;5;241m.\u001b[39mIcicle] \u001b[38;5;129;01mand\u001b[39;00m args[\u001b[38;5;124m\"\u001b[39m\u001b[38;5;124mpath\u001b[39m\u001b[38;5;124m\"\u001b[39m] \u001b[38;5;129;01mis\u001b[39;00m \u001b[38;5;129;01mnot\u001b[39;00m \u001b[38;5;28;01mNone\u001b[39;00m:\n\u001b[0;32m   2119\u001b[0m     args \u001b[38;5;241m=\u001b[39m process_dataframe_hierarchy(args)\n",
      "File \u001b[1;32m~\\anaconda3\\envs\\py312\\Lib\\site-packages\\plotly\\express\\_core.py:1560\u001b[0m, in \u001b[0;36mbuild_dataframe\u001b[1;34m(args, constructor)\u001b[0m\n\u001b[0;32m   1558\u001b[0m         dtype \u001b[38;5;241m=\u001b[39m v_dtype\n\u001b[0;32m   1559\u001b[0m     \u001b[38;5;28;01melif\u001b[39;00m dtype \u001b[38;5;241m!=\u001b[39m v_dtype:\n\u001b[1;32m-> 1560\u001b[0m         \u001b[38;5;28;01mraise\u001b[39;00m \u001b[38;5;167;01mValueError\u001b[39;00m(\n\u001b[0;32m   1561\u001b[0m             \u001b[38;5;124m\"\u001b[39m\u001b[38;5;124mPlotly Express cannot process wide-form data with columns of different type.\u001b[39m\u001b[38;5;124m\"\u001b[39m\n\u001b[0;32m   1562\u001b[0m         )\n\u001b[0;32m   1563\u001b[0m df_output \u001b[38;5;241m=\u001b[39m df_output\u001b[38;5;241m.\u001b[39mmelt(\n\u001b[0;32m   1564\u001b[0m     id_vars\u001b[38;5;241m=\u001b[39mwide_id_vars,\n\u001b[0;32m   1565\u001b[0m     value_vars\u001b[38;5;241m=\u001b[39mwide_value_vars,\n\u001b[0;32m   1566\u001b[0m     var_name\u001b[38;5;241m=\u001b[39mvar_name,\n\u001b[0;32m   1567\u001b[0m     value_name\u001b[38;5;241m=\u001b[39mvalue_name,\n\u001b[0;32m   1568\u001b[0m )\n\u001b[0;32m   1569\u001b[0m \u001b[38;5;28;01massert\u001b[39;00m \u001b[38;5;28mlen\u001b[39m(df_output\u001b[38;5;241m.\u001b[39mcolumns) \u001b[38;5;241m==\u001b[39m \u001b[38;5;28mlen\u001b[39m(\u001b[38;5;28mset\u001b[39m(df_output\u001b[38;5;241m.\u001b[39mcolumns)), (\n\u001b[0;32m   1570\u001b[0m     \u001b[38;5;124m\"\u001b[39m\u001b[38;5;124mWide-mode name-inference failure, likely due to a internal bug. \u001b[39m\u001b[38;5;124m\"\u001b[39m\n\u001b[0;32m   1571\u001b[0m     \u001b[38;5;124m\"\u001b[39m\u001b[38;5;124mPlease report this to \u001b[39m\u001b[38;5;124m\"\u001b[39m\n\u001b[0;32m   1572\u001b[0m     \u001b[38;5;124m\"\u001b[39m\u001b[38;5;124mhttps://github.com/plotly/plotly.py/issues/new and we will try to \u001b[39m\u001b[38;5;124m\"\u001b[39m\n\u001b[0;32m   1573\u001b[0m     \u001b[38;5;124m\"\u001b[39m\u001b[38;5;124mreplicate and fix it.\u001b[39m\u001b[38;5;124m\"\u001b[39m\n\u001b[0;32m   1574\u001b[0m )\n",
      "\u001b[1;31mValueError\u001b[0m: Plotly Express cannot process wide-form data with columns of different type."
     ]
    }
   ],
   "source": [
    "fig = px.bar(df_result)\n",
    "fig.show(renderer='iframe')"
   ]
  },
  {
   "cell_type": "code",
   "execution_count": 95,
   "id": "db9fb788-d0f3-4c2e-96fe-d361a108d733",
   "metadata": {},
   "outputs": [
    {
     "data": {
      "text/html": [
       "<div>\n",
       "<style scoped>\n",
       "    .dataframe tbody tr th:only-of-type {\n",
       "        vertical-align: middle;\n",
       "    }\n",
       "\n",
       "    .dataframe tbody tr th {\n",
       "        vertical-align: top;\n",
       "    }\n",
       "\n",
       "    .dataframe thead th {\n",
       "        text-align: right;\n",
       "    }\n",
       "</style>\n",
       "<table border=\"1\" class=\"dataframe\">\n",
       "  <thead>\n",
       "    <tr style=\"text-align: right;\">\n",
       "      <th></th>\n",
       "      <th>AVG(CAST(Age AS REAL))</th>\n",
       "    </tr>\n",
       "  </thead>\n",
       "  <tbody>\n",
       "    <tr>\n",
       "      <th>0</th>\n",
       "      <td>28.866953</td>\n",
       "    </tr>\n",
       "    <tr>\n",
       "      <th>1</th>\n",
       "      <td>27.428165</td>\n",
       "    </tr>\n",
       "  </tbody>\n",
       "</table>\n",
       "</div>"
      ],
      "text/plain": [
       "   AVG(CAST(Age AS REAL))\n",
       "0               28.866953\n",
       "1               27.428165"
      ]
     },
     "execution_count": 95,
     "metadata": {},
     "output_type": "execute_result"
    }
   ],
   "source": []
  },
  {
   "cell_type": "code",
   "execution_count": null,
   "id": "49d3db2a-1275-4d09-94cb-2ef254d91ca6",
   "metadata": {},
   "outputs": [],
   "source": []
  }
 ],
 "metadata": {
  "kernelspec": {
   "display_name": "Python 3 (ipykernel)",
   "language": "python",
   "name": "python3"
  },
  "language_info": {
   "codemirror_mode": {
    "name": "ipython",
    "version": 3
   },
   "file_extension": ".py",
   "mimetype": "text/x-python",
   "name": "python",
   "nbconvert_exporter": "python",
   "pygments_lexer": "ipython3",
   "version": "3.12.4"
  }
 },
 "nbformat": 4,
 "nbformat_minor": 5
}
