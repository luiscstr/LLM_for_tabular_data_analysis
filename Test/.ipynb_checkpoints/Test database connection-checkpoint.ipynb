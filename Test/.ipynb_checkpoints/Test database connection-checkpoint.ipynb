{
 "cells": [
  {
   "cell_type": "code",
   "execution_count": null,
   "id": "47fa2647-db21-40b5-a59d-35758b45d3de",
   "metadata": {},
   "outputs": [],
   "source": [
    "from langchain_community.utilities import SQLDatabase"
   ]
  },
  {
   "cell_type": "code",
   "execution_count": null,
   "id": "d9e328c5-1177-4669-bf53-5d203e06c4dd",
   "metadata": {},
   "outputs": [],
   "source": [
    "db=SQLDatabase.from_uri(f\"sqlite:///data/sqldb.db\")"
   ]
  },
  {
   "cell_type": "code",
   "execution_count": null,
   "id": "bd88b970-f08d-49db-94ce-2c5f7dab24ac",
   "metadata": {},
   "outputs": [],
   "source": [
    "print(db.dialect)\n",
    "print(db.get_usable_table_names())\n",
    "db.run(\"SELECT * FROM Artist LIMIT 10;\")"
   ]
  }
 ],
 "metadata": {
  "kernelspec": {
   "display_name": "Python 3 (ipykernel)",
   "language": "python",
   "name": "python3"
  },
  "language_info": {
   "codemirror_mode": {
    "name": "ipython",
    "version": 3
   },
   "file_extension": ".py",
   "mimetype": "text/x-python",
   "name": "python",
   "nbconvert_exporter": "python",
   "pygments_lexer": "ipython3",
   "version": "3.11.7"
  }
 },
 "nbformat": 4,
 "nbformat_minor": 5
}
