{
 "cells": [
  {
   "cell_type": "code",
   "execution_count": 1,
   "id": "55db0462-d434-49bb-bb7b-dacaec246610",
   "metadata": {},
   "outputs": [],
   "source": [
    "from dotenv import load_dotenv\n",
    "import os"
   ]
  },
  {
   "cell_type": "code",
   "execution_count": null,
   "id": "4abaa489-51bb-45e0-9009-964525f2f952",
   "metadata": {},
   "outputs": [],
   "source": [
    "print(\"Environment variables are loaded:\", load_dotenv())\n",
    "print(\"test by reading a variable:\", os.getenv(\"GOOGLE_API_TYPE\"))"
   ]
  },
  {
   "cell_type": "code",
   "execution_count": null,
   "id": "bde17f5f-924b-4f5e-a1b8-6e6e7f388810",
   "metadata": {},
   "outputs": [],
   "source": []
  }
 ],
 "metadata": {
  "kernelspec": {
   "display_name": "Python 3 (ipykernel)",
   "language": "python",
   "name": "python3"
  },
  "language_info": {
   "codemirror_mode": {
    "name": "ipython",
    "version": 3
   },
   "file_extension": ".py",
   "mimetype": "text/x-python",
   "name": "python",
   "nbconvert_exporter": "python",
   "pygments_lexer": "ipython3",
   "version": "3.11.7"
  }
 },
 "nbformat": 4,
 "nbformat_minor": 5
}
