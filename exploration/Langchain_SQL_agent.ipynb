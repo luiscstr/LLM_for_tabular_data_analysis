{
 "cells": [
  {
   "cell_type": "code",
   "execution_count": 1,
   "id": "075cea02-f487-44b7-983c-e13169b1256d",
   "metadata": {},
   "outputs": [
    {
     "name": "stderr",
     "output_type": "stream",
     "text": [
      "C:\\Users\\lcast\\anaconda3\\envs\\py312\\Lib\\site-packages\\tqdm\\auto.py:21: TqdmWarning: IProgress not found. Please update jupyter and ipywidgets. See https://ipywidgets.readthedocs.io/en/stable/user_install.html\n",
      "  from .autonotebook import tqdm as notebook_tqdm\n"
     ]
    }
   ],
   "source": [
    "from langchain_community.utilities import SQLDatabase\n",
    "from langchain.chains import create_sql_query_chain\n",
    "from langchain_community.tools.sql_database.tool import QuerySQLDataBaseTool\n",
    "from langchain_google_genai import ChatGoogleGenerativeAI\n",
    "from langchain_groq import ChatGroq\n",
    "from sqlalchemy import create_engine,text\n",
    "from google.api_core import retry\n",
    "from langchain_community.agent_toolkits import create_sql_agent\n",
    "import google.generativeai as genai\n",
    "from dotenv import load_dotenv\n",
    "import pandas as pd\n",
    "import tqdm as notebook_tqdm\n",
    "import os"
   ]
  },
  {
   "cell_type": "code",
   "execution_count": 2,
   "id": "e8915257-aa54-45e1-bb19-4f5f0136f7b0",
   "metadata": {},
   "outputs": [
    {
     "name": "stdout",
     "output_type": "stream",
     "text": [
      "True\n"
     ]
    }
   ],
   "source": [
    "#load_ext dotenv\n",
    "load_dotenv()\n",
    "print(load_dotenv())"
   ]
  },
  {
   "cell_type": "code",
   "execution_count": 3,
   "id": "b54e1e97-cb74-4212-9638-8d53b2e21e01",
   "metadata": {},
   "outputs": [
    {
     "name": "stdout",
     "output_type": "stream",
     "text": [
      "<class 'pandas.core.frame.DataFrame'>\n",
      "RangeIndex: 887 entries, 0 to 886\n",
      "Data columns (total 8 columns):\n",
      " #   Column                   Non-Null Count  Dtype  \n",
      "---  ------                   --------------  -----  \n",
      " 0   Survived                 887 non-null    int64  \n",
      " 1   Pclass                   887 non-null    int64  \n",
      " 2   Name                     887 non-null    object \n",
      " 3   Sex                      887 non-null    object \n",
      " 4   Age                      887 non-null    float64\n",
      " 5   Siblings/Spouses Aboard  887 non-null    int64  \n",
      " 6   Parents/Children Aboard  887 non-null    int64  \n",
      " 7   Fare                     887 non-null    float64\n",
      "dtypes: float64(2), int64(4), object(2)\n",
      "memory usage: 55.6+ KB\n"
     ]
    },
    {
     "data": {
      "text/html": [
       "<div>\n",
       "<style scoped>\n",
       "    .dataframe tbody tr th:only-of-type {\n",
       "        vertical-align: middle;\n",
       "    }\n",
       "\n",
       "    .dataframe tbody tr th {\n",
       "        vertical-align: top;\n",
       "    }\n",
       "\n",
       "    .dataframe thead th {\n",
       "        text-align: right;\n",
       "    }\n",
       "</style>\n",
       "<table border=\"1\" class=\"dataframe\">\n",
       "  <thead>\n",
       "    <tr style=\"text-align: right;\">\n",
       "      <th></th>\n",
       "      <th>Survived</th>\n",
       "      <th>Pclass</th>\n",
       "      <th>Name</th>\n",
       "      <th>Sex</th>\n",
       "      <th>Age</th>\n",
       "      <th>Siblings/Spouses Aboard</th>\n",
       "      <th>Parents/Children Aboard</th>\n",
       "      <th>Fare</th>\n",
       "    </tr>\n",
       "  </thead>\n",
       "  <tbody>\n",
       "    <tr>\n",
       "      <th>0</th>\n",
       "      <td>0</td>\n",
       "      <td>3</td>\n",
       "      <td>Mr. Owen Harris Braund</td>\n",
       "      <td>male</td>\n",
       "      <td>22.0</td>\n",
       "      <td>1</td>\n",
       "      <td>0</td>\n",
       "      <td>7.2500</td>\n",
       "    </tr>\n",
       "    <tr>\n",
       "      <th>1</th>\n",
       "      <td>1</td>\n",
       "      <td>1</td>\n",
       "      <td>Mrs. John Bradley (Florence Briggs Thayer) Cum...</td>\n",
       "      <td>female</td>\n",
       "      <td>38.0</td>\n",
       "      <td>1</td>\n",
       "      <td>0</td>\n",
       "      <td>71.2833</td>\n",
       "    </tr>\n",
       "    <tr>\n",
       "      <th>2</th>\n",
       "      <td>1</td>\n",
       "      <td>3</td>\n",
       "      <td>Miss. Laina Heikkinen</td>\n",
       "      <td>female</td>\n",
       "      <td>26.0</td>\n",
       "      <td>0</td>\n",
       "      <td>0</td>\n",
       "      <td>7.9250</td>\n",
       "    </tr>\n",
       "    <tr>\n",
       "      <th>3</th>\n",
       "      <td>1</td>\n",
       "      <td>1</td>\n",
       "      <td>Mrs. Jacques Heath (Lily May Peel) Futrelle</td>\n",
       "      <td>female</td>\n",
       "      <td>35.0</td>\n",
       "      <td>1</td>\n",
       "      <td>0</td>\n",
       "      <td>53.1000</td>\n",
       "    </tr>\n",
       "    <tr>\n",
       "      <th>4</th>\n",
       "      <td>0</td>\n",
       "      <td>3</td>\n",
       "      <td>Mr. William Henry Allen</td>\n",
       "      <td>male</td>\n",
       "      <td>35.0</td>\n",
       "      <td>0</td>\n",
       "      <td>0</td>\n",
       "      <td>8.0500</td>\n",
       "    </tr>\n",
       "  </tbody>\n",
       "</table>\n",
       "</div>"
      ],
      "text/plain": [
       "   Survived  Pclass                                               Name  \\\n",
       "0         0       3                             Mr. Owen Harris Braund   \n",
       "1         1       1  Mrs. John Bradley (Florence Briggs Thayer) Cum...   \n",
       "2         1       3                              Miss. Laina Heikkinen   \n",
       "3         1       1        Mrs. Jacques Heath (Lily May Peel) Futrelle   \n",
       "4         0       3                            Mr. William Henry Allen   \n",
       "\n",
       "      Sex   Age  Siblings/Spouses Aboard  Parents/Children Aboard     Fare  \n",
       "0    male  22.0                        1                        0   7.2500  \n",
       "1  female  38.0                        1                        0  71.2833  \n",
       "2  female  26.0                        0                        0   7.9250  \n",
       "3  female  35.0                        1                        0  53.1000  \n",
       "4    male  35.0                        0                        0   8.0500  "
      ]
     },
     "execution_count": 3,
     "metadata": {},
     "output_type": "execute_result"
    }
   ],
   "source": [
    "df=pd.read_csv(\"data/titanic.csv\")\n",
    "df.info()\n",
    "df.head(5)"
   ]
  },
  {
   "cell_type": "code",
   "execution_count": 6,
   "id": "7747deeb-1d9b-4f91-94bc-9bd783026da8",
   "metadata": {},
   "outputs": [
    {
     "ename": "PermissionError",
     "evalue": "[WinError 32] The process cannot access the file because it is being used by another process: 'data/sqldb.db'",
     "output_type": "error",
     "traceback": [
      "\u001b[1;31m---------------------------------------------------------------------------\u001b[0m",
      "\u001b[1;31mPermissionError\u001b[0m                           Traceback (most recent call last)",
      "Cell \u001b[1;32mIn[6], line 2\u001b[0m\n\u001b[0;32m      1\u001b[0m db_path \u001b[38;5;241m=\u001b[39m \u001b[38;5;124m\"\u001b[39m\u001b[38;5;124mdata/sqldb.db\u001b[39m\u001b[38;5;124m\"\u001b[39m\n\u001b[1;32m----> 2\u001b[0m os\u001b[38;5;241m.\u001b[39mremove(db_path)\n",
      "\u001b[1;31mPermissionError\u001b[0m: [WinError 32] The process cannot access the file because it is being used by another process: 'data/sqldb.db'"
     ]
    }
   ],
   "source": [
    "db_path = \"data/sqldb.db\"\n",
    "os.remove(db_path)"
   ]
  },
  {
   "cell_type": "code",
   "execution_count": 7,
   "id": "46a93c7d-ae90-4811-8e00-56f37408abb8",
   "metadata": {},
   "outputs": [
    {
     "name": "stdin",
     "output_type": "stream",
     "text": [
      "The table 'titanic' already exists. Do you want to replace it? (yes/no):  yes\n"
     ]
    },
    {
     "name": "stdout",
     "output_type": "stream",
     "text": [
      "Table has been replaced.\n"
     ]
    }
   ],
   "source": [
    "engine=create_engine(f\"sqlite:///data/sqldb.db\")\n",
    "\n",
    "def check_table_exists(engine, table_name):\n",
    "    with engine.connect() as connection:\n",
    "        query = text(f\"SELECT name FROM sqlite_master WHERE type='table' AND name='{table_name}';\")\n",
    "        result = connection.execute(query).fetchone()\n",
    "    return result is not None\n",
    "\n",
    "table_name='titanic'\n",
    "\n",
    "table_exists = check_table_exists(engine, table_name)\n",
    "\n",
    "if table_exists:\n",
    "    user_input = input(\"The table 'titanic' already exists. Do you want to replace it? (yes/no): \").strip().lower()\n",
    "\n",
    "    if user_input == 'yes':\n",
    "        # Replace the table if it already exists\n",
    "        df.to_sql(table_name, engine, index=False, if_exists='replace')\n",
    "        print(\"Table has been replaced.\")\n",
    "    else:\n",
    "        print(\"No changes were made to the existing database.\")\n",
    "else:\n",
    "    # Create the table if it doesn't exist\n",
    "    df.to_sql(\"titanic\", engine, index=False)\n",
    "    print(\"Table 'titanic' has been created.\")"
   ]
  },
  {
   "cell_type": "code",
   "execution_count": 8,
   "id": "fc6c06a6-e7f6-4051-b648-723b86c5c545",
   "metadata": {},
   "outputs": [],
   "source": [
    "#Connecting to database\n",
    "db=SQLDatabase.from_uri(f\"sqlite:///data/sqldb.db\")"
   ]
  },
  {
   "cell_type": "code",
   "execution_count": 9,
   "id": "ac0de46f-f0ba-449b-b8e4-a5d99811b26e",
   "metadata": {},
   "outputs": [
    {
     "name": "stdout",
     "output_type": "stream",
     "text": [
      "sqlite\n",
      "['titanic']\n"
     ]
    },
    {
     "data": {
      "text/plain": [
       "\"[(1, 2, 'Master. Alden Gates Caldwell', 'male', 0.83, 0, 2, 29.0), (0, 3, 'Master. Eino Viljami Panula', 'male', 1.0, 4, 1, 39.6875), (1, 3, 'Miss. Eleanor Ileen Johnson', 'female', 1.0, 1, 1, 11.1333), (1, 2, 'Master. Richard F Becker', 'male', 1.0, 2, 1, 39.0), (1, 1, 'Master. Hudson Trevor Allison', 'male', 0.92, 1, 2, 151.55), (1, 3, 'Miss. Maria Nakid', 'female', 1.0, 0, 2, 15.7417), (0, 3, 'Master. Sidney Leonard Goodwin', 'male', 1.0, 5, 2, 46.9), (1, 3, 'Miss. Helene Barbara Baclini', 'female', 0.75, 2, 1, 19.2583), (1, 3, 'Miss. Eugenie Baclini', 'female', 0.75, 2, 1, 19.2583), (1, 2, 'Master. Viljo Hamalainen', 'male', 0.67, 1, 1, 14.5), (1, 3, 'Master. Bertram Vere Dean', 'male', 1.0, 1, 2, 20.575), (1, 3, 'Master. Assad Alexander Thomas', 'male', 0.42, 0, 1, 8.5167), (1, 2, 'Master. Andre Mallet', 'male', 1.0, 0, 2, 37.0042), (1, 2, 'Master. George Sibley Richards', 'male', 0.83, 1, 1, 18.75)]\""
      ]
     },
     "execution_count": 9,
     "metadata": {},
     "output_type": "execute_result"
    }
   ],
   "source": [
    "db = SQLDatabase(engine=engine)\n",
    "print(db.dialect)\n",
    "print(db.get_usable_table_names())\n",
    "db.run(\"SELECT * FROM titanic WHERE Age < 2;\")"
   ]
  },
  {
   "cell_type": "markdown",
   "id": "203e3832-9fe4-47a4-a0e8-cdab118808e2",
   "metadata": {},
   "source": [
    "#Create database following instructions in \"Create sql database.md\"\n"
   ]
  },
  {
   "cell_type": "code",
   "execution_count": 10,
   "id": "b7e1b57f-6731-4030-8c36-5ed6c0b131d9",
   "metadata": {},
   "outputs": [],
   "source": [
    "llm = ChatGroq(\n",
    "    model=\"llama-3.1-70b-versatile\",\n",
    "    temperature=0,\n",
    "    max_tokens=None,\n",
    "    timeout=None,\n",
    "    max_retries=5,\n",
    "    # other params...\n",
    ")"
   ]
  },
  {
   "cell_type": "code",
   "execution_count": 14,
   "id": "c20c6878-20c2-4175-bb47-15ecedf25793",
   "metadata": {},
   "outputs": [
    {
     "name": "stdout",
     "output_type": "stream",
     "text": [
      "Question: How many survivors?\n",
      "SQLQuery: SELECT COUNT(\"Survived\") FROM titanic WHERE \"Survived\" = 1\n"
     ]
    }
   ],
   "source": [
    "chain=create_sql_query_chain(llm,db)\n",
    "response = chain.invoke({\"question\": \"How many  survivors?\"})\n",
    "print(response)"
   ]
  },
  {
   "cell_type": "code",
   "execution_count": 16,
   "id": "44eb2f79-8ae1-4980-b693-d305b86af3e5",
   "metadata": {},
   "outputs": [
    {
     "data": {
      "text/plain": [
       "'[(342,)]'"
      ]
     },
     "execution_count": 16,
     "metadata": {},
     "output_type": "execute_result"
    }
   ],
   "source": [
    "query=response.split('SQLQuery:')[1].strip()\n",
    "db.run(query)"
   ]
  },
  {
   "cell_type": "code",
   "execution_count": 17,
   "id": "ab71f8a4-c75f-4c05-93d5-93c23ee723f4",
   "metadata": {},
   "outputs": [],
   "source": [
    "#Add QuerySQLDataBaseTool to the chain\n",
    "write_query = create_sql_query_chain(llm, db)\n",
    "execute_query = QuerySQLDataBaseTool(db=db)\n",
    "chain = write_query | execute_query"
   ]
  },
  {
   "cell_type": "code",
   "execution_count": 18,
   "id": "e7ef6d61-823a-483d-9b4f-00d1c414a326",
   "metadata": {},
   "outputs": [],
   "source": [
    "chain = write_query | execute_query"
   ]
  },
  {
   "cell_type": "code",
   "execution_count": 19,
   "id": "3a15730f-749d-47bb-8698-026909ef6764",
   "metadata": {},
   "outputs": [
    {
     "data": {
      "text/plain": [
       "'Error: (sqlite3.OperationalError) near \"Question\": syntax error\\n[SQL: Question: How many passengers are there?\\nSQLQuery: SELECT COUNT(\"Name\") FROM titanic]\\n(Background on this error at: https://sqlalche.me/e/20/e3q8)'"
      ]
     },
     "execution_count": 19,
     "metadata": {},
     "output_type": "execute_result"
    }
   ],
   "source": [
    "#Error because incorrect SQL format\n",
    "chain.invoke({\"question\": \"How many passengers are there?\"})"
   ]
  },
  {
   "cell_type": "code",
   "execution_count": null,
   "id": "43e35a3d-12fb-47a8-8cca-74eebed09ae4",
   "metadata": {},
   "outputs": [],
   "source": [
    "from langchain.chains.sql_database.prompt import SQL_PROMPTS"
   ]
  },
  {
   "cell_type": "code",
   "execution_count": 21,
   "id": "16a5e4d2-1a71-463f-a50f-1f0fa57606ed",
   "metadata": {},
   "outputs": [],
   "source": [
    "from operator import itemgetter\n",
    "from langchain_core.output_parsers import StrOutputParser\n",
    "from langchain_core.prompts import PromptTemplate\n",
    "from langchain_core.runnables import RunnablePassthrough\n"
   ]
  },
  {
   "cell_type": "code",
   "execution_count": 31,
   "id": "2e8e4402-6746-4de3-8807-6ca20a58f41f",
   "metadata": {},
   "outputs": [
    {
     "data": {
      "text/plain": [
       "'Question: How many survivors\\nSQL Query: SELECT COUNT(\"Survived\") FROM titanic WHERE \"Survived\" = 1\\nSQL Result: 500'"
      ]
     },
     "execution_count": 31,
     "metadata": {},
     "output_type": "execute_result"
    }
   ],
   "source": [
    "#Note: need to modify the prompt in order to get the correct query by removing the header \n",
    "#\"SQL Query fenerated by the model\" Even so, somettimes provides the wrong answer\n",
    "write_query = create_sql_query_chain(llm, db)\n",
    "execute_query = QuerySQLDataBaseTool(db=db)\n",
    "\n",
    "answer_prompt = PromptTemplate.from_template(\n",
    "    \"\"\"Given the following user question, create a syntactically correct query to run by not including \"SQL Query:\" string in the SQL query.\n",
    "       Then execute the syntactically correct query and and answer the user question with the SQL result\"\n",
    "Use the following format:\n",
    "     \n",
    "Question: {question}\n",
    "SQL Query: {query}\n",
    "SQL Result: {result}\n",
    "\"\"\"\n",
    "\n",
    ")\n",
    "\n",
    "answer = answer_prompt | llm | StrOutputParser()\n",
    "chain = (\n",
    "    RunnablePassthrough.assign(query=write_query).assign(\n",
    "        result=itemgetter(\"query\") | execute_query\n",
    "    )\n",
    "    | answer\n",
    ")\n",
    "\n",
    "chain.invoke({\"question\": \"How many survivors\"})"
   ]
  },
  {
   "cell_type": "markdown",
   "id": "72f5a9a4-89d4-4ae9-b9bc-f4099c29df19",
   "metadata": {},
   "source": [
    "***Agents***"
   ]
  },
  {
   "cell_type": "code",
   "execution_count": 32,
   "id": "2ec73d5a-a189-4851-b964-7e2d05ffbbeb",
   "metadata": {},
   "outputs": [],
   "source": [
    "agent_executor = create_sql_agent(llm, db=db, verbose=True)"
   ]
  },
  {
   "cell_type": "code",
   "execution_count": 35,
   "id": "bd95f613-be71-48d0-935f-d4a7c538e80e",
   "metadata": {
    "scrolled": true
   },
   "outputs": [
    {
     "name": "stdout",
     "output_type": "stream",
     "text": [
      "\n",
      "\n",
      "\u001b[1m> Entering new SQL Agent Executor chain...\u001b[0m\n",
      "\u001b[32;1m\u001b[1;3mThought: I should look at the tables in the database to see what I can query.  Then I should query the schema of the most relevant tables.\n",
      "Action: sql_db_list_tables\n",
      "Action Input: \u001b[0m\u001b[38;5;200m\u001b[1;3mtitanic\u001b[0m\u001b[32;1m\u001b[1;3mAction: sql_db_schema\n",
      "Action Input: titanic\u001b[0m\u001b[33;1m\u001b[1;3m\n",
      "CREATE TABLE titanic (\n",
      "\t\"Survived\" BIGINT, \n",
      "\t\"Pclass\" BIGINT, \n",
      "\t\"Name\" TEXT, \n",
      "\t\"Sex\" TEXT, \n",
      "\t\"Age\" FLOAT, \n",
      "\t\"Siblings/Spouses Aboard\" BIGINT, \n",
      "\t\"Parents/Children Aboard\" BIGINT, \n",
      "\t\"Fare\" FLOAT\n",
      ")\n",
      "\n",
      "/*\n",
      "3 rows from titanic table:\n",
      "Survived\tPclass\tName\tSex\tAge\tSiblings/Spouses Aboard\tParents/Children Aboard\tFare\n",
      "0\t3\tMr. Owen Harris Braund\tmale\t22.0\t1\t0\t7.25\n",
      "1\t1\tMrs. John Bradley (Florence Briggs Thayer) Cumings\tfemale\t38.0\t1\t0\t71.2833\n",
      "1\t3\tMiss. Laina Heikkinen\tfemale\t26.0\t0\t0\t7.925\n",
      "*/\u001b[0m\u001b[32;1m\u001b[1;3mThought: I now have the schema of the titanic table. I can see that the columns \"Survived\", \"Sex\", and \"Parents/Children Aboard\" are relevant to the question. I should query the database to get the number of survivors by gender and number of children.\n",
      "\n",
      "Action: sql_db_query_checker\n",
      "Action Input: SELECT Sex, `Parents/Children Aboard`, COUNT(*) FROM titanic WHERE Survived = 1 GROUP BY Sex, `Parents/Children Aboard` LIMIT 10\u001b[0m\u001b[36;1m\u001b[1;3mSELECT Sex, `Parents/Children Aboard`, COUNT(*) \n",
      "FROM titanic \n",
      "WHERE Survived = 1 \n",
      "GROUP BY Sex, `Parents/Children Aboard` \n",
      "LIMIT 10\u001b[0m\u001b[32;1m\u001b[1;3mAction: sql_db_query\n",
      "Action Input: SELECT Sex, `Parents/Children Aboard`, COUNT(*) FROM titanic WHERE Survived = 1 GROUP BY Sex, `Parents/Children Aboard` LIMIT 10\u001b[0m\u001b[36;1m\u001b[1;3m[('female', 0, 153), ('female', 1, 46), ('female', 2, 30), ('female', 3, 3), ('female', 5, 1), ('male', 0, 80), ('male', 1, 19), ('male', 2, 10)]\u001b[0m\u001b[32;1m\u001b[1;3mThought: I now know the final answer\n",
      "Final Answer: The number of survivors by gender and number of children is as follows: \n",
      "- Female survivors with 0 children: 153\n",
      "- Female survivors with 1 child: 46\n",
      "- Female survivors with 2 children: 30\n",
      "- Female survivors with 3 children: 3\n",
      "- Female survivors with 5 children: 1\n",
      "- Male survivors with 0 children: 80\n",
      "- Male survivors with 1 child: 19\n",
      "- Male survivors with 2 children: 10\u001b[0m\n",
      "\n",
      "\u001b[1m> Finished chain.\u001b[0m\n"
     ]
    }
   ],
   "source": [
    "response=agent_executor.invoke(\n",
    "    {\n",
    "        \"input\": \"Number of survivors by gender and number of children\"\n",
    "    }\n",
    ")"
   ]
  },
  {
   "cell_type": "code",
   "execution_count": 36,
   "id": "2b003169-08dc-47e6-8b77-b302b9ae700f",
   "metadata": {},
   "outputs": [
    {
     "data": {
      "text/plain": [
       "'The number of survivors by gender and number of children is as follows: \\n- Female survivors with 0 children: 153\\n- Female survivors with 1 child: 46\\n- Female survivors with 2 children: 30\\n- Female survivors with 3 children: 3\\n- Female survivors with 5 children: 1\\n- Male survivors with 0 children: 80\\n- Male survivors with 1 child: 19\\n- Male survivors with 2 children: 10'"
      ]
     },
     "execution_count": 36,
     "metadata": {},
     "output_type": "execute_result"
    }
   ],
   "source": [
    "response['output']"
   ]
  },
  {
   "cell_type": "code",
   "execution_count": null,
   "id": "2c67f20a-fd17-4aad-90a2-e91b883f8194",
   "metadata": {},
   "outputs": [],
   "source": []
  },
  {
   "cell_type": "code",
   "execution_count": null,
   "id": "85d99897-dd93-4982-8991-607c71f30829",
   "metadata": {},
   "outputs": [],
   "source": []
  },
  {
   "cell_type": "code",
   "execution_count": null,
   "id": "100917e3-8a06-4883-b034-7dbdaf01d2ba",
   "metadata": {},
   "outputs": [],
   "source": []
  }
 ],
 "metadata": {
  "kernelspec": {
   "display_name": "Python 3 (ipykernel)",
   "language": "python",
   "name": "python3"
  },
  "language_info": {
   "codemirror_mode": {
    "name": "ipython",
    "version": 3
   },
   "file_extension": ".py",
   "mimetype": "text/x-python",
   "name": "python",
   "nbconvert_exporter": "python",
   "pygments_lexer": "ipython3",
   "version": "3.12.4"
  }
 },
 "nbformat": 4,
 "nbformat_minor": 5
}
