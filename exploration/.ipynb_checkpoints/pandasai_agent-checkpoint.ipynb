{
 "cells": [
  {
   "cell_type": "code",
   "execution_count": 1,
   "id": "e19b6309-7560-4335-a77e-e0d19787e8db",
   "metadata": {},
   "outputs": [],
   "source": [
    "from pandasai.llm.local_llm import LocalLLM\n",
    "import psutil\n",
    "import streamlit as st\n",
    "import pandas as pd\n",
    "from pandasai import SmartDataframe, Agent\n",
    "from pandasai.ee.agents.judge_agent import JudgeAgent\n",
    "from langchain_groq import ChatGroq\n",
    "from dotenv import load_dotenv\n",
    "import logging"
   ]
  },
  {
   "cell_type": "code",
   "execution_count": 2,
   "id": "2e49d114-cdcb-4a34-843c-44cd0b1ce8cc",
   "metadata": {},
   "outputs": [],
   "source": [
    "load_dotenv()\n",
    "#model= LocalLLM(api_base=\"http://localhost:11434/v1\", model=\"llama3-chatqa:8b\")\n",
    "\n",
    "model = ChatGroq(\n",
    "        model=\"llama-3.1-70b-versatile\",\n",
    "        temperature=0,\n",
    "        max_tokens=None,\n",
    "        timeout=None,\n",
    "        max_retries=5,\n",
    "        # other params...\n",
    "        )"
   ]
  },
  {
   "cell_type": "code",
   "execution_count": 3,
   "id": "886da4fc-c232-46c5-af48-f9c811c7673e",
   "metadata": {},
   "outputs": [],
   "source": [
    "df=pd.read_csv(\"data/titanic.csv\")"
   ]
  },
  {
   "cell_type": "code",
   "execution_count": 9,
   "id": "95cf979f-dbe5-473c-a1cb-fe07bf17cec4",
   "metadata": {},
   "outputs": [],
   "source": [
    "judge = JudgeAgent()\n",
    "agent=Agent(df, config={\"llm\":model,\"verbose\": True,\"clear_cache\":True},\n",
    "             judge=judge,\n",
    "                description=\"You are a data analysis agent. Your main goal is to help non-technical users to analyze data\")"
   ]
  },
  {
   "cell_type": "code",
   "execution_count": 10,
   "id": "442400d6-7ebc-4afb-855a-60219ccee2f3",
   "metadata": {
    "scrolled": true
   },
   "outputs": [],
   "source": [
    "prompt=\"Number of female passengers\"\n",
    "response=agent.chat(prompt)\n",
    "#Code used for the response\n",
    "generated_code = agent.context.intermediate_values.get('current_code_executed', None)\n",
    "#Explanation of the response\n",
    "reasoning=agent.explain()"
   ]
  },
  {
   "cell_type": "code",
   "execution_count": 16,
   "id": "114b71a5-9010-4a56-adcb-a55e2585256d",
   "metadata": {},
   "outputs": [
    {
     "name": "stdout",
     "output_type": "stream",
     "text": [
      "\"Response:314\n",
      "\n",
      "Generated code:\n",
      "# TODO: import the required dependencies\n",
      "import pandas as pd\n",
      "import matplotlib.pyplot as plt\n",
      "\n",
      "# Write code here\n",
      "# Assuming dfs is a list of dataframes and we are working with the first dataframe\n",
      "df = dfs[0]\n",
      "\n",
      "# Calculate the number of female passengers\n",
      "num_female_passengers = df[df['Sex'] == 'female'].shape[0]\n",
      "\n",
      "# Declare result var: \n",
      "result = {\n",
      "    \"type\": \"number\", \n",
      "    \"value\": num_female_passengers\n",
      "}\n",
      "\n",
      "# Alternatively, you can also plot a bar chart to show the number of male and female passengers\n",
      "# plt.figure(figsize=(10,6))\n",
      "# df['Sex'].value_counts().plot(kind='bar')\n",
      "# plt.title('Number of Male and Female Passengers')\n",
      "# plt.xlabel('Sex')\n",
      "# plt.ylabel('Count')\n",
      "# plt.savefig('temp_chart.png')\n",
      "# result = {\n",
      "#     \"type\": \"plot\", \n",
      "#     \"value\": 'temp_chart.png'\n",
      "# }\n",
      "\n",
      "explanation:\n",
      "I came up with the code by breaking down the problem into smaller steps. \n",
      "\n",
      "First, I identified the main goal: to find the number of female passengers. \n",
      "\n",
      "Next, I thought about what information we need to achieve this goal. We need a list of passengers and their corresponding genders.\n",
      "\n",
      "Then, I considered how to isolate the female passengers from the list. I decided to create a filter that only selects the passengers who are female.\n",
      "\n",
      "After that, I thought about how to count the number of female passengers. I realized that we can simply count the number of passengers who passed the filter.\n",
      "\n",
      "Finally, I put all these steps together to create the code. The code first gets the list of passengers, then applies the filter to select only the female passengers, and finally counts the number of passengers who passed the filter.\n",
      "\n",
      "The result is the number of female passengers, which is what we were looking for.\n"
     ]
    }
   ],
   "source": [
    "print(f'\"Response:{response}\\n\\nGenerated code:\\n{generated_code}\\n\\nExplanation:\\n{reasoning}')"
   ]
  }
 ],
 "metadata": {
  "kernelspec": {
   "display_name": "Python 3 (ipykernel)",
   "language": "python",
   "name": "python3"
  },
  "language_info": {
   "codemirror_mode": {
    "name": "ipython",
    "version": 3
   },
   "file_extension": ".py",
   "mimetype": "text/x-python",
   "name": "python",
   "nbconvert_exporter": "python",
   "pygments_lexer": "ipython3",
   "version": "3.12.4"
  }
 },
 "nbformat": 4,
 "nbformat_minor": 5
}
