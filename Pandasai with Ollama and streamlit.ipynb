{
 "cells": [
  {
   "cell_type": "code",
   "execution_count": 41,
   "id": "ffe9af12-3982-49c9-8839-7d352a3d9836",
   "metadata": {},
   "outputs": [],
   "source": [
    "from pandasai.llm.local_llm import LocalLLM\n",
    "import psutil\n",
    "import streamlit as st"
   ]
  },
  {
   "cell_type": "code",
   "execution_count": 42,
   "id": "4e77129e-e673-45cb-b492-0f8f514efdfc",
   "metadata": {},
   "outputs": [
    {
     "name": "stdout",
     "output_type": "stream",
     "text": [
      "Ollama running: True\n"
     ]
    }
   ],
   "source": [
    "#Check if Ollama is ruinning\n",
    "def check_if_running(process_name):\n",
    "    running = False\n",
    "    for proc in psutil.process_iter([\"name\"]):\n",
    "        if process_name in proc.info[\"name\"]:\n",
    "            running = True\n",
    "            break\n",
    "    return running\n",
    " \n",
    "ollama_running = check_if_running(\"ollama\")\n",
    " \n",
    "if not ollama_running:\n",
    "    raise RuntimeError(\"Ollama not running. Launch ollama before proceeding.\")\n",
    "print(\"Ollama running:\", check_if_running(\"ollama\"))"
   ]
  },
  {
   "cell_type": "code",
   "execution_count": null,
   "id": "c2859841-32d7-411e-b07b-7f0b19eca22f",
   "metadata": {},
   "outputs": [],
   "source": [
    "!streamlit run app_pandasai.py"
   ]
  },
  {
   "cell_type": "code",
   "execution_count": 37,
   "id": "158f280b-6549-4b0d-8c34-67a22d98ea9c",
   "metadata": {},
   "outputs": [],
   "source": [
    "import re\n",
    "pattern = r\"INFO - Code running:(.*?)```\"\n",
    "match = re.search(pattern, Text, re.DOTALL)\n",
    "if match:\n",
    "        generated_code  = match.group(1).strip()\n",
    "else:\n",
    "        generated_code =\"No\""
   ]
  },
  {
   "cell_type": "code",
   "execution_count": 38,
   "id": "43772359-c72e-4e5b-ae6d-ebd3d55a6e82",
   "metadata": {},
   "outputs": [
    {
     "data": {
      "text/plain": [
       "\"female_survivors = dfs[0][(dfs[0]['Sex'] == 'female') & (dfs[0]['Survived'] == 1)] total_female_survivors = female_survivors.shape[0] result = {'type': 'number', 'value': total_female_survivors}\""
      ]
     },
     "execution_count": 38,
     "metadata": {},
     "output_type": "execute_result"
    }
   ],
   "source": [
    "generated_code "
   ]
  },
  {
   "cell_type": "code",
   "execution_count": null,
   "id": "97d27ec4-4e62-46fa-87e3-2f2cff22bd2d",
   "metadata": {},
   "outputs": [],
   "source": []
  }
 ],
 "metadata": {
  "kernelspec": {
   "display_name": "Python 3 (ipykernel)",
   "language": "python",
   "name": "python3"
  },
  "language_info": {
   "codemirror_mode": {
    "name": "ipython",
    "version": 3
   },
   "file_extension": ".py",
   "mimetype": "text/x-python",
   "name": "python",
   "nbconvert_exporter": "python",
   "pygments_lexer": "ipython3",
   "version": "3.12.4"
  }
 },
 "nbformat": 4,
 "nbformat_minor": 5
}
