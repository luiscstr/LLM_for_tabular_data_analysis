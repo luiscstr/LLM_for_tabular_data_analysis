{
 "cells": [
  {
   "cell_type": "code",
   "execution_count": 41,
   "id": "ffe9af12-3982-49c9-8839-7d352a3d9836",
   "metadata": {},
   "outputs": [],
   "source": [
    "from pandasai.llm.local_llm import LocalLLM\n",
    "import psutil\n",
    "import streamlit as st"
   ]
  },
  {
   "cell_type": "code",
   "execution_count": 42,
   "id": "4e77129e-e673-45cb-b492-0f8f514efdfc",
   "metadata": {},
   "outputs": [
    {
     "name": "stdout",
     "output_type": "stream",
     "text": [
      "Ollama running: True\n"
     ]
    }
   ],
   "source": [
    "#Check if Ollama is ruinning\n",
    "def check_if_running(process_name):\n",
    "    running = False\n",
    "    for proc in psutil.process_iter([\"name\"]):\n",
    "        if process_name in proc.info[\"name\"]:\n",
    "            running = True\n",
    "            break\n",
    "    return running\n",
    " \n",
    "ollama_running = check_if_running(\"ollama\")\n",
    " \n",
    "if not ollama_running:\n",
    "    raise RuntimeError(\"Ollama not running. Launch ollama before proceeding.\")\n",
    "print(\"Ollama running:\", check_if_running(\"ollama\"))"
   ]
  },
  {
   "cell_type": "code",
   "execution_count": null,
   "id": "c2859841-32d7-411e-b07b-7f0b19eca22f",
   "metadata": {},
   "outputs": [],
   "source": [
    "!streamlit run app_pandasai.py"
   ]
  },
  {
   "cell_type": "code",
   "execution_count": null,
   "id": "a95ac008-9e96-4141-ba87-d8ca6018be40",
   "metadata": {},
   "outputs": [],
   "source": []
  }
 ],
 "metadata": {
  "kernelspec": {
   "display_name": "Python 3 (ipykernel)",
   "language": "python",
   "name": "python3"
  },
  "language_info": {
   "codemirror_mode": {
    "name": "ipython",
    "version": 3
   },
   "file_extension": ".py",
   "mimetype": "text/x-python",
   "name": "python",
   "nbconvert_exporter": "python",
   "pygments_lexer": "ipython3",
   "version": "3.11.7"
  }
 },
 "nbformat": 4,
 "nbformat_minor": 5
}
